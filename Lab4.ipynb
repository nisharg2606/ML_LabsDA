{
 "cells": [
  {
   "cell_type": "code",
   "execution_count": 103,
   "metadata": {},
   "outputs": [],
   "source": [
    "import numpy as np\n",
    "import matplotlib.pyplot as plt\n",
    "from mpl_toolkits.mplot3d import Axes3D\n",
    "from matplotlib import cm\n",
    "import matplotlib.image as mpimg\n",
    "import pandas as pd\n",
    "import math\n",
    "import sys\n",
    "from collections import defaultdict\n",
    "\n",
    "import tensorflow as tf"
   ]
  },
  {
   "cell_type": "code",
   "execution_count": 104,
   "metadata": {},
   "outputs": [],
   "source": [
    "(x_train,y_train), (x_test, y_test) = tf.keras.datasets.mnist.load_data()\n",
    "\n",
    "x_train = x_train.reshape(x_train.shape[0],x_train.shape[1]*x_train.shape[2])\n",
    "x_test = x_test.reshape(x_test.shape[0],x_test.shape[1]*x_test.shape[2])\n",
    "\n",
    "y_train = y_train.reshape(y_train.shape[0],1)\n",
    "y_test = y_test.reshape(y_test.shape[0],1)\n",
    "\n",
    "no_classes = 10\n",
    "no_features = len(x_train[0])"
   ]
  },
  {
   "cell_type": "code",
   "execution_count": 105,
   "metadata": {},
   "outputs": [],
   "source": [
    "x = defaultdict(list)\n",
    "X = []\n",
    "mu = []\n",
    "MU = []\n",
    "\n",
    "for i in range(0,len(x_train)):\n",
    "    if int(y_train[i]) < no_classes:\n",
    "        x[int(y_train[i])].append(x_train[i])\n",
    "        X.append(x_train[i])\n",
    "        \n",
    "X = np.array(X)\n",
    "\n",
    "for i in range(0,no_features):\n",
    "    MU.append(np.mean(X[:,i]))\n",
    "\n",
    "for i in range(0,no_classes):\n",
    "    tempMu = []\n",
    "    tempClass = np.array(x[i])\n",
    "    for j in range(0,no_features):\n",
    "        tempMu.append(np.mean(tempClass[:,j]))\n",
    "    mu.append(tempMu)"
   ]
  },
  {
   "cell_type": "code",
   "execution_count": 106,
   "metadata": {},
   "outputs": [],
   "source": [
    "xo = x\n",
    "\n",
    "# for i in range(0,no_classes):\n",
    "#     for j in range(0,no_features):\n",
    "#         for k in range(0,len(xo[i])):\n",
    "#             xo[i][k][j] -= MU[j]\n",
    "\n",
    "c = []\n",
    "detc = []\n",
    "invc = []\n",
    "\n",
    "for i in range(0,no_classes):\n",
    "    tempClass = np.array(xo[i])\n",
    "    tempCov = np.cov(np.transpose(tempClass))\n",
    "    c.append(tempCov)\n",
    "    detc.append(np.linalg.det(tempCov))\n",
    "    invc.append(np.linalg.pinv(tempCov))\n",
    "    \n",
    "C = [[0 for x in range(no_features)] for y in range(no_features)] \n",
    "\n",
    "for i in range(0,no_features):\n",
    "    for j in range(0,no_features):\n",
    "        temp = 0\n",
    "        for k in range(0,no_classes):\n",
    "            temp += (len(x[k])*c[k][i][j])\n",
    "        C[i][j] = temp/len(X)\n",
    "        \n",
    "invC = np.linalg.pinv(C)\n",
    "        \n",
    "p = []\n",
    "for i in range(0,no_classes):\n",
    "    p.append(len(x[i])/len(X))"
   ]
  },
  {
   "cell_type": "code",
   "execution_count": 107,
   "metadata": {},
   "outputs": [
    {
     "name": "stdout",
     "output_type": "stream",
     "text": [
      "Error(LDA) : 12.7\n",
      "Accuracy(LDA) : 87.3\n",
      "----------------------------------------\n",
      "Error(QDA) : 14.28\n",
      "Accuracy(QDA) : 85.72\n"
     ]
    }
   ],
   "source": [
    "error = 0\n",
    "total = 0\n",
    "\n",
    "for i in range(0,len(x_test)):\n",
    "    if int(y_test[i]) < no_classes:\n",
    "        total += 1\n",
    "        curF = -sys.maxsize\n",
    "        ye = 0\n",
    "        for j in range(0,no_classes):\n",
    "            tempF = (np.matmul(np.matmul(np.transpose(x_test[i]),invC),mu[j]))+((-0.5)*(np.matmul(np.matmul(np.transpose(mu[j]),invC),mu[j])))+np.log(p[j])\n",
    "            if tempF > curF:\n",
    "                curF = tempF\n",
    "                ye = j\n",
    "        if ye!=int(y_test[i]):\n",
    "            error += 1\n",
    "\n",
    "print(\"Error(LDA) :\", (error*100)/total)\n",
    "print(\"Accuracy(LDA) :\", ((total-error)*100)/total)\n",
    "\n",
    "print(\"----------------------------------------\")\n",
    "\n",
    "error = 0\n",
    "total = 0\n",
    "for i in range(0,len(x_test)):\n",
    "    if int(y_test[i]) < no_classes:\n",
    "        total += 1\n",
    "        curF = -sys.maxsize\n",
    "        ye = 0\n",
    "        for j in range(0,no_classes):\n",
    "            tempF = ((-0.5)*(detc[j]+np.matmul(np.matmul(np.transpose(x_test[i]-mu[j]),invc[j]),x_test[i]-mu[j])))+np.log(p[j])\n",
    "            if tempF > curF:\n",
    "                curF = tempF\n",
    "                ye = j\n",
    "        if ye!=int(y_test[i]):\n",
    "            error += 1\n",
    "\n",
    "print(\"Error(QDA) :\", (error*100)/total)\n",
    "print(\"Accuracy(QDA) :\", ((total-error)*100)/total)"
   ]
  }
 ],
 "metadata": {
  "kernelspec": {
   "display_name": "Python 3",
   "language": "python",
   "name": "python3"
  },
  "language_info": {
   "codemirror_mode": {
    "name": "ipython",
    "version": 3
   },
   "file_extension": ".py",
   "mimetype": "text/x-python",
   "name": "python",
   "nbconvert_exporter": "python",
   "pygments_lexer": "ipython3",
   "version": "3.6.8"
  }
 },
 "nbformat": 4,
 "nbformat_minor": 2
}
